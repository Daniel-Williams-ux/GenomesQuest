{
 "cells": [
  {
   "cell_type": "code",
   "execution_count": 1,
   "metadata": {},
   "outputs": [
    {
     "name": "stdout",
     "output_type": "stream",
     "text": [
      "1000 rows of VCF data loaded into SQLite successfully!\n"
     ]
    }
   ],
   "source": [
    "import sqlite3\n",
    "import pandas as pd\n",
    "\n",
    "# Create a connection to your SQLite database\n",
    "conn = sqlite3.connect(\"genomic_data.db\")\n",
    "cursor = conn.cursor()\n",
    "\n",
    "# Create table in SQLite (if not done already)\n",
    "cursor.execute('''CREATE TABLE IF NOT EXISTS variants (\n",
    "    chrm TEXT, \n",
    "    start_position INTEGER, \n",
    "    rsid TEXT, \n",
    "    reference_bases TEXT, \n",
    "    alternate_bases TEXT, \n",
    "    qual REAL, \n",
    "    filter TEXT, \n",
    "    info TEXT\n",
    "    )''')\n",
    "\n",
    "# Open the VCF file\n",
    "vcf_file = r\"C:\\Users\\Imago\\vcf\\ALL.chr8.phase3_shapeit2_mvncall_integrated_v5b.20130502.genotypes.vcf\"\n",
    "\n",
    "# Read the first 1000 rows of the VCF file\n",
    "vcf_data = pd.read_csv(vcf_file, sep='\\t', comment='#', header=None, nrows=1000)\n",
    "\n",
    "# Rename columns based on the preview structure\n",
    "vcf_data.columns = ['chrm', 'start_position', 'rsid', 'reference_bases', 'alternate_bases', 'qual', 'filter', 'info'] + \\\n",
    "                   ['format'] + [f'sample_{i}' for i in range(1, vcf_data.shape[1] - 9 + 1)]\n",
    "\n",
    "# Add 'end_position' (for SNPs, end_position = start_position)\n",
    "vcf_data['end_position'] = vcf_data['start_position']\n",
    "\n",
    "# Select only the relevant columns for now\n",
    "vcf_data_to_load = vcf_data[['chrm', 'start_position', 'rsid', 'reference_bases', 'alternate_bases', 'qual', 'filter', 'info']]\n",
    "\n",
    "# Load the data into SQLite\n",
    "vcf_data_to_load.to_sql('variants', conn, if_exists='append', index=False)\n",
    "\n",
    "# Close the connection\n",
    "conn.close()\n",
    "\n",
    "print(\"1000 rows of VCF data loaded into SQLite successfully!\")\n"
   ]
  },
  {
   "cell_type": "code",
   "execution_count": null,
   "metadata": {},
   "outputs": [],
   "source": []
  }
 ],
 "metadata": {
  "kernelspec": {
   "display_name": "Python 3",
   "language": "python",
   "name": "python3"
  },
  "language_info": {
   "codemirror_mode": {
    "name": "ipython",
    "version": 3
   },
   "file_extension": ".py",
   "mimetype": "text/x-python",
   "name": "python",
   "nbconvert_exporter": "python",
   "pygments_lexer": "ipython3",
   "version": "3.12.5"
  }
 },
 "nbformat": 4,
 "nbformat_minor": 2
}
